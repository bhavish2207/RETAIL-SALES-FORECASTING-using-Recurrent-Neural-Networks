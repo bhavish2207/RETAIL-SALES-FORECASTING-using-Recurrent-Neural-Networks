{
 "cells": [
  {
   "cell_type": "code",
   "execution_count": 1,
   "metadata": {},
   "outputs": [],
   "source": [
    "import pandas as pd\n",
    "import numpy as np\n",
    "import matplotlib.pyplot as plt\n",
    "import seaborn as sns\n",
    "from sklearn import preprocessing \n",
    "from sklearn.metrics import accuracy_score,auc,confusion_matrix,classification_report,precision_score,roc_curve,roc_auc_score,recall_score,f1_score,precision_score\n",
    "from sklearn import metrics\n",
    "import missingno as mn\n",
    "import math as m\n",
    "%matplotlib inline\n",
    "import warnings\n",
    "warnings.filterwarnings('ignore')\n",
    "sns.set_palette('husl',8)"
   ]
  },
  {
   "cell_type": "markdown",
   "metadata": {},
   "source": [
    "#### Reading the cleaned & merged dataset"
   ]
  },
  {
   "cell_type": "code",
   "execution_count": 2,
   "metadata": {
    "scrolled": true
   },
   "outputs": [
    {
     "name": "stdout",
     "output_type": "stream",
     "text": [
      "   Store  Dept        Date  Weekly_Sales    Size  Type_A  Type_B  Type_C  \\\n",
      "0      1     1  2010-02-05      24924.50  151315       1       0       0   \n",
      "1      1     1  2010-02-12      46039.49  151315       1       0       0   \n",
      "2      1     1  2010-02-19      41595.55  151315       1       0       0   \n",
      "3      1     1  2010-02-26      19403.54  151315       1       0       0   \n",
      "4      1     1  2010-03-05      21827.90  151315       1       0       0   \n",
      "\n",
      "   Temperature  Fuel_Price         CPI  Unemployment  IsHoliday  \n",
      "0        42.31       2.572  211.096358         8.106          0  \n",
      "1        38.51       2.548  211.242170         8.106          1  \n",
      "2        39.93       2.514  211.289143         8.106          0  \n",
      "3        46.63       2.561  211.319643         8.106          0  \n",
      "4        46.50       2.625  211.350143         8.106          0  \n",
      "(421570, 13)\n"
     ]
    }
   ],
   "source": [
    "sales_forecasting_df = pd.read_csv(\"sales_forecasting.csv\")\n",
    "print(sales_forecasting_df.head())\n",
    "print(sales_forecasting_df.shape)"
   ]
  },
  {
   "cell_type": "markdown",
   "metadata": {},
   "source": [
    "### 1. Viewing the average sales across the 3 store types"
   ]
  },
  {
   "cell_type": "code",
   "execution_count": 5,
   "metadata": {},
   "outputs": [],
   "source": [
    "store_type = ['A','B','C']\n",
    "average_sales = [sales_forecasting_df.loc[sales_forecasting_df['Type_A'] == 1, 'Weekly_Sales'].sum()/sales_forecasting_df.Type_A.sum(),\n",
    "                 sales_forecasting_df.loc[sales_forecasting_df['Type_B'] == 1, 'Weekly_Sales'].sum()/sales_forecasting_df.Type_B.sum(),\n",
    "                 sales_forecasting_df.loc[sales_forecasting_df['Type_C'] == 1, 'Weekly_Sales'].sum()/sales_forecasting_df.Type_C.sum()]"
   ]
  },
  {
   "cell_type": "markdown",
   "metadata": {},
   "source": [
    "*Stores of Type A, have a much higher sales than types B & C*\n",
    "##### *Hence, Store Size would also have an impact on Sales*"
   ]
  },
  {
   "cell_type": "code",
   "execution_count": 8,
   "metadata": {},
   "outputs": [
    {
     "data": {
      "image/png": "[encoded data removed]",
      "text/plain": [
       "<Figure size 432x288 with 1 Axes>"
      ]
     },
     "metadata": {
      "needs_background": "light"
     },
     "output_type": "display_data"
    }
   ],
   "source": [
    "plt.bar(store_type, average_sales, align='center')\n",
    "plt.title('Average Sales VS Store Types')\n",
    "plt.xlabel('Store Type')\n",
    "plt.ylabel('Average Sales')\n",
    "plt.show()"
   ]
  },
  {
   "cell_type": "markdown",
   "metadata": {},
   "source": [
    "### 2. Viewing the average sales across Holiday week & Non Holiday week categories"
   ]
  },
  {
   "cell_type": "code",
   "execution_count": 9,
   "metadata": {},
   "outputs": [],
   "source": [
    "Holiday_week = ['Yes','No']\n",
    "average_sales = [sales_forecasting_df.loc[sales_forecasting_df['IsHoliday'] == 1, 'Weekly_Sales'].sum()/sales_forecasting_df.IsHoliday.sum(),\n",
    "                 sales_forecasting_df.loc[sales_forecasting_df['IsHoliday'] == 0, 'Weekly_Sales'].sum()/(len(sales_forecasting_df)-sales_forecasting_df.IsHoliday.sum())]"
   ]
  },
  {
   "cell_type": "code",
   "execution_count": 10,
   "metadata": {},
   "outputs": [
    {
     "data": {
      "image/png": "[encoded data removed]",
      "text/plain": [
       "<Figure size 432x288 with 1 Axes>"
      ]
     },
     "metadata": {
      "needs_background": "light"
     },
     "output_type": "display_data"
    }
   ],
   "source": [
    "plt.bar(Holiday_week, average_sales, align='center')\n",
    "plt.title('Average Sales VS Holiday Week Categories')\n",
    "plt.xlabel('Is Holiday Week')\n",
    "plt.ylabel('Average Sales')\n",
    "plt.show()"
   ]
  },
  {
   "cell_type": "markdown",
   "metadata": {},
   "source": [
    "### 3. Total Sales at Week & Store level"
   ]
  },
  {
   "cell_type": "code",
   "execution_count": 11,
   "metadata": {},
   "outputs": [],
   "source": [
    "sales_week_store_lvl = sales_forecasting_df.groupby(['Store', 'Date']).agg({'Weekly_Sales': ['sum']})"
   ]
  },
  {
   "cell_type": "code",
   "execution_count": 12,
   "metadata": {
    "scrolled": true
   },
   "outputs": [
    {
     "data": {
      "text/html": [
       "<div>\n",
       "<style scoped>\n",
       "    .dataframe tbody tr th:only-of-type {\n",
       "        vertical-align: middle;\n",
       "    }\n",
       "\n",
       "    .dataframe tbody tr th {\n",
       "        vertical-align: top;\n",
       "    }\n",
       "\n",
       "    .dataframe thead tr th {\n",
       "        text-align: left;\n",
       "    }\n",
       "\n",
       "    .dataframe thead tr:last-of-type th {\n",
       "        text-align: right;\n",
       "    }\n",
       "</style>\n",
       "<table border=\"1\" class=\"dataframe\">\n",
       "  <thead>\n",
       "    <tr>\n",
       "      <th></th>\n",
       "      <th></th>\n",
       "      <th>Weekly_Sales</th>\n",
       "    </tr>\n",
       "    <tr>\n",
       "      <th></th>\n",
       "      <th></th>\n",
       "      <th>sum</th>\n",
       "    </tr>\n",
       "    <tr>\n",
       "      <th>Store</th>\n",
       "      <th>Date</th>\n",
       "      <th></th>\n",
       "    </tr>\n",
       "  </thead>\n",
       "  <tbody>\n",
       "    <tr>\n",
       "      <td rowspan=\"5\" valign=\"top\">1</td>\n",
       "      <td>2010-02-05</td>\n",
       "      <td>1643690.90</td>\n",
       "    </tr>\n",
       "    <tr>\n",
       "      <td>2010-02-12</td>\n",
       "      <td>1641957.44</td>\n",
       "    </tr>\n",
       "    <tr>\n",
       "      <td>2010-02-19</td>\n",
       "      <td>1611968.17</td>\n",
       "    </tr>\n",
       "    <tr>\n",
       "      <td>2010-02-26</td>\n",
       "      <td>1409727.59</td>\n",
       "    </tr>\n",
       "    <tr>\n",
       "      <td>2010-03-05</td>\n",
       "      <td>1554806.68</td>\n",
       "    </tr>\n",
       "    <tr>\n",
       "      <td>...</td>\n",
       "      <td>...</td>\n",
       "      <td>...</td>\n",
       "    </tr>\n",
       "    <tr>\n",
       "      <td rowspan=\"5\" valign=\"top\">45</td>\n",
       "      <td>2012-09-28</td>\n",
       "      <td>713173.95</td>\n",
       "    </tr>\n",
       "    <tr>\n",
       "      <td>2012-10-05</td>\n",
       "      <td>733455.07</td>\n",
       "    </tr>\n",
       "    <tr>\n",
       "      <td>2012-10-12</td>\n",
       "      <td>734464.36</td>\n",
       "    </tr>\n",
       "    <tr>\n",
       "      <td>2012-10-19</td>\n",
       "      <td>718125.53</td>\n",
       "    </tr>\n",
       "    <tr>\n",
       "      <td>2012-10-26</td>\n",
       "      <td>760281.43</td>\n",
       "    </tr>\n",
       "  </tbody>\n",
       "</table>\n",
       "<p>6435 rows × 1 columns</p>\n",
       "</div>"
      ],
      "text/plain": [
       "                 Weekly_Sales\n",
       "                          sum\n",
       "Store Date                   \n",
       "1     2010-02-05   1643690.90\n",
       "      2010-02-12   1641957.44\n",
       "      2010-02-19   1611968.17\n",
       "      2010-02-26   1409727.59\n",
       "      2010-03-05   1554806.68\n",
       "...                       ...\n",
       "45    2012-09-28    713173.95\n",
       "      2012-10-05    733455.07\n",
       "      2012-10-12    734464.36\n",
       "      2012-10-19    718125.53\n",
       "      2012-10-26    760281.43\n",
       "\n",
       "[6435 rows x 1 columns]"
      ]
     },
     "execution_count": 12,
     "metadata": {},
     "output_type": "execute_result"
    }
   ],
   "source": []
  },
  {
   "cell_type": "code",
   "execution_count": null,
   "metadata": {},
   "outputs": [],
   "source": []
  }
 ],
 "metadata": {
  "kernelspec": {
   "display_name": "Python 3",
   "language": "python",
   "name": "python3"
  },
  "language_info": {
   "codemirror_mode": {
    "name": "ipython",
    "version": 3
   },
   "file_extension": ".py",
   "mimetype": "text/x-python",
   "name": "python",
   "nbconvert_exporter": "python",
   "pygments_lexer": "ipython3",
   "version": "3.7.4"
  }
 },
 "nbformat": 4,
 "nbformat_minor": 2
}
