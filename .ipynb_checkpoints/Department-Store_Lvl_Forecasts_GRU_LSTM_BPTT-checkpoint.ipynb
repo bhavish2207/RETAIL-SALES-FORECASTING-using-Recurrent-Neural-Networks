{
 "cells": [
  {
   "cell_type": "markdown",
   "metadata": {},
   "source": [
    "## This Notebook contains the code to Forecast the weekly sales at a Department-Store Level for all 99 departments belonging to 45 stores. \n",
    "This is achieved  by training Gated Recurrent Unit (GRU), Long Short Term Memory (LSTM) & Backpropagation Through Time Recurrent Neural Network (BPTT RNN) models."
   ]
  },
  {
   "cell_type": "code",
   "execution_count": 1,
   "metadata": {},
   "outputs": [],
   "source": [
    "from __future__ import print_function\n",
    "import pandas as pd\n",
    "import argparse\n",
    "import torch\n",
    "import torch.nn as nn\n",
    "import torch.nn.functional as F\n",
    "import torch.optim as optim\n",
    "##from torchvision import datasets, transforms\n",
    "from torch.optim.lr_scheduler import StepLR\n",
    "import math\n",
    "import matplotlib.pyplot as plt\n",
    "import numpy as np\n",
    "from sklearn.preprocessing import MinMaxScaler"
   ]
  },
  {
   "cell_type": "markdown",
   "metadata": {},
   "source": [
    "*Reading Dept-Store level data*"
   ]
  },
  {
   "cell_type": "code",
   "execution_count": 3,
   "metadata": {},
   "outputs": [],
   "source": [
    "dept_store_lvl_df = pd.read_csv('data/sales_forecasting.csv')"
   ]
  },
  {
   "cell_type": "code",
   "execution_count": 4,
   "metadata": {
    "scrolled": true
   },
   "outputs": [
    {
     "data": {
      "text/html": [
       "<div>\n",
       "<style scoped>\n",
       "    .dataframe tbody tr th:only-of-type {\n",
       "        vertical-align: middle;\n",
       "    }\n",
       "\n",
       "    .dataframe tbody tr th {\n",
       "        vertical-align: top;\n",
       "    }\n",
       "\n",
       "    .dataframe thead th {\n",
       "        text-align: right;\n",
       "    }\n",
       "</style>\n",
       "<table border=\"1\" class=\"dataframe\">\n",
       "  <thead>\n",
       "    <tr style=\"text-align: right;\">\n",
       "      <th></th>\n",
       "      <th>Store</th>\n",
       "      <th>Dept</th>\n",
       "      <th>Date</th>\n",
       "      <th>Weekly_Sales</th>\n",
       "      <th>Size</th>\n",
       "      <th>Type_A</th>\n",
       "      <th>Type_B</th>\n",
       "      <th>Type_C</th>\n",
       "      <th>Temperature</th>\n",
       "      <th>Fuel_Price</th>\n",
       "      <th>CPI</th>\n",
       "      <th>Unemployment</th>\n",
       "      <th>IsHoliday</th>\n",
       "    </tr>\n",
       "  </thead>\n",
       "  <tbody>\n",
       "    <tr>\n",
       "      <th>0</th>\n",
       "      <td>1</td>\n",
       "      <td>1</td>\n",
       "      <td>2/5/2010</td>\n",
       "      <td>24924.50</td>\n",
       "      <td>151315</td>\n",
       "      <td>1</td>\n",
       "      <td>0</td>\n",
       "      <td>0</td>\n",
       "      <td>42.31</td>\n",
       "      <td>2.572</td>\n",
       "      <td>211.096358</td>\n",
       "      <td>8.106</td>\n",
       "      <td>0</td>\n",
       "    </tr>\n",
       "    <tr>\n",
       "      <th>1</th>\n",
       "      <td>1</td>\n",
       "      <td>1</td>\n",
       "      <td>2/12/2010</td>\n",
       "      <td>46039.49</td>\n",
       "      <td>151315</td>\n",
       "      <td>1</td>\n",
       "      <td>0</td>\n",
       "      <td>0</td>\n",
       "      <td>38.51</td>\n",
       "      <td>2.548</td>\n",
       "      <td>211.242170</td>\n",
       "      <td>8.106</td>\n",
       "      <td>1</td>\n",
       "    </tr>\n",
       "    <tr>\n",
       "      <th>2</th>\n",
       "      <td>1</td>\n",
       "      <td>1</td>\n",
       "      <td>2/19/2010</td>\n",
       "      <td>41595.55</td>\n",
       "      <td>151315</td>\n",
       "      <td>1</td>\n",
       "      <td>0</td>\n",
       "      <td>0</td>\n",
       "      <td>39.93</td>\n",
       "      <td>2.514</td>\n",
       "      <td>211.289143</td>\n",
       "      <td>8.106</td>\n",
       "      <td>0</td>\n",
       "    </tr>\n",
       "    <tr>\n",
       "      <th>3</th>\n",
       "      <td>1</td>\n",
       "      <td>1</td>\n",
       "      <td>2/26/2010</td>\n",
       "      <td>19403.54</td>\n",
       "      <td>151315</td>\n",
       "      <td>1</td>\n",
       "      <td>0</td>\n",
       "      <td>0</td>\n",
       "      <td>46.63</td>\n",
       "      <td>2.561</td>\n",
       "      <td>211.319643</td>\n",
       "      <td>8.106</td>\n",
       "      <td>0</td>\n",
       "    </tr>\n",
       "    <tr>\n",
       "      <th>4</th>\n",
       "      <td>1</td>\n",
       "      <td>1</td>\n",
       "      <td>3/5/2010</td>\n",
       "      <td>21827.90</td>\n",
       "      <td>151315</td>\n",
       "      <td>1</td>\n",
       "      <td>0</td>\n",
       "      <td>0</td>\n",
       "      <td>46.50</td>\n",
       "      <td>2.625</td>\n",
       "      <td>211.350143</td>\n",
       "      <td>8.106</td>\n",
       "      <td>0</td>\n",
       "    </tr>\n",
       "  </tbody>\n",
       "</table>\n",
       "</div>"
      ],
      "text/plain": [
       "   Store  Dept       Date  Weekly_Sales    Size  Type_A  Type_B  Type_C  \\\n",
       "0      1     1   2/5/2010      24924.50  151315       1       0       0   \n",
       "1      1     1  2/12/2010      46039.49  151315       1       0       0   \n",
       "2      1     1  2/19/2010      41595.55  151315       1       0       0   \n",
       "3      1     1  2/26/2010      19403.54  151315       1       0       0   \n",
       "4      1     1   3/5/2010      21827.90  151315       1       0       0   \n",
       "\n",
       "   Temperature  Fuel_Price         CPI  Unemployment  IsHoliday  \n",
       "0        42.31       2.572  211.096358         8.106          0  \n",
       "1        38.51       2.548  211.242170         8.106          1  \n",
       "2        39.93       2.514  211.289143         8.106          0  \n",
       "3        46.63       2.561  211.319643         8.106          0  \n",
       "4        46.50       2.625  211.350143         8.106          0  "
      ]
     },
     "execution_count": 4,
     "metadata": {},
     "output_type": "execute_result"
    }
   ],
   "source": [
    "dept_store_lvl_df.head()"
   ]
  },
  {
   "cell_type": "code",
   "execution_count": 5,
   "metadata": {
    "scrolled": true
   },
   "outputs": [
    {
     "data": {
      "text/plain": [
       "(421570, 13)"
      ]
     },
     "execution_count": 5,
     "metadata": {},
     "output_type": "execute_result"
    }
   ],
   "source": [
    "dept_store_lvl_df.shape"
   ]
  },
  {
   "cell_type": "markdown",
   "metadata": {},
   "source": [
    "#### Creating week_nbr column"
   ]
  },
  {
   "cell_type": "code",
   "execution_count": 6,
   "metadata": {},
   "outputs": [
    {
     "name": "stdout",
     "output_type": "stream",
     "text": [
      "   Store  Dept       Date  Weekly_Sales    Size  Type_A  Type_B  Type_C  \\\n",
      "0      1     1 2010-02-05      24924.50  151315       1       0       0   \n",
      "1      1     1 2010-02-12      46039.49  151315       1       0       0   \n",
      "2      1     1 2010-02-19      41595.55  151315       1       0       0   \n",
      "3      1     1 2010-02-26      19403.54  151315       1       0       0   \n",
      "4      1     1 2010-03-05      21827.90  151315       1       0       0   \n",
      "\n",
      "   Temperature  Fuel_Price         CPI  Unemployment  IsHoliday  week_nbr  \n",
      "0        42.31       2.572  211.096358         8.106          0         1  \n",
      "1        38.51       2.548  211.242170         8.106          1         2  \n",
      "2        39.93       2.514  211.289143         8.106          0         3  \n",
      "3        46.63       2.561  211.319643         8.106          0         4  \n",
      "4        46.50       2.625  211.350143         8.106          0         5  \n",
      "(421570, 14)\n"
     ]
    }
   ],
   "source": [
    "dept_store_lvl_df['Date'] = pd.to_datetime(dept_store_lvl_df.Date)\n",
    "dept_store_lvl_df['week_nbr'] = dept_store_lvl_df.sort_values(['Date'],ascending=[True]).groupby(['Store', 'Dept'])\\\n",
    "             .cumcount() + 1\n",
    "print(dept_store_lvl_df.head())\n",
    "print(dept_store_lvl_df.shape)"
   ]
  },
  {
   "cell_type": "markdown",
   "metadata": {},
   "source": [
    "*Creating a periodic week_nbr column to capture week of the year value between 1 & 52. This column can capture the seasonality by holding the week of the year value*"
   ]
  },
  {
   "cell_type": "code",
   "execution_count": 7,
   "metadata": {},
   "outputs": [],
   "source": [
    "a = []\n",
    "for el in dept_store_lvl_df.week_nbr:\n",
    "    if el>52 and el<=104:\n",
    "        a.append(el-52)\n",
    "    elif el>104:\n",
    "        a.append(el-104)\n",
    "    else:\n",
    "        a.append(el)\n",
    "week_nbr_periodic = pd.Series(a)\n",
    "cols = list(dept_store_lvl_df.columns)\n",
    "cols.append('week_nbr_periodic')\n",
    "dept_store_lvl_df = pd.concat([dept_store_lvl_df, week_nbr_periodic], axis = 1)\n",
    "dept_store_lvl_df.columns = cols"
   ]
  },
  {
   "cell_type": "code",
   "execution_count": 9,
   "metadata": {},
   "outputs": [
    {
     "name": "stdout",
     "output_type": "stream",
     "text": [
      "Index(['Store', 'Dept', 'Date', 'Weekly_Sales', 'Size', 'Type_A', 'Type_B',\n",
      "       'Type_C', 'Temperature', 'Fuel_Price', 'CPI', 'Unemployment',\n",
      "       'IsHoliday', 'week_nbr', 'week_nbr_periodic'],\n",
      "      dtype='object')\n",
      "[ 1  2  3  4  5  6  7  8  9 10 11 12 13 14 15 16 17 18 19 20 21 22 23 24\n",
      " 25 26 27 28 29 30 31 32 33 34 35 36 37 38 39 40 41 42 43 44 45 46 47 48\n",
      " 49 50 51 52]\n"
     ]
    }
   ],
   "source": [
    "### Vary from Weeks 1 to 52 & repeat\n",
    "print(dept_store_lvl_df.columns)\n",
    "print(dept_store_lvl_df.week_nbr_periodic.unique())"
   ]
  },
  {
   "cell_type": "code",
   "execution_count": 11,
   "metadata": {
    "scrolled": false
   },
   "outputs": [
    {
     "name": "stdout",
     "output_type": "stream",
     "text": [
      "(421570, 15)\n"
     ]
    },
    {
     "data": {
      "text/html": [
       "<div>\n",
       "<style scoped>\n",
       "    .dataframe tbody tr th:only-of-type {\n",
       "        vertical-align: middle;\n",
       "    }\n",
       "\n",
       "    .dataframe tbody tr th {\n",
       "        vertical-align: top;\n",
       "    }\n",
       "\n",
       "    .dataframe thead th {\n",
       "        text-align: right;\n",
       "    }\n",
       "</style>\n",
       "<table border=\"1\" class=\"dataframe\">\n",
       "  <thead>\n",
       "    <tr style=\"text-align: right;\">\n",
       "      <th></th>\n",
       "      <th>Store</th>\n",
       "      <th>Dept</th>\n",
       "      <th>Date</th>\n",
       "      <th>Weekly_Sales</th>\n",
       "      <th>Size</th>\n",
       "      <th>Type_A</th>\n",
       "      <th>Type_B</th>\n",
       "      <th>Type_C</th>\n",
       "      <th>Temperature</th>\n",
       "      <th>Fuel_Price</th>\n",
       "      <th>CPI</th>\n",
       "      <th>Unemployment</th>\n",
       "      <th>IsHoliday</th>\n",
       "      <th>week_nbr</th>\n",
       "      <th>week_nbr_periodic</th>\n",
       "    </tr>\n",
       "  </thead>\n",
       "  <tbody>\n",
       "    <tr>\n",
       "      <th>0</th>\n",
       "      <td>1</td>\n",
       "      <td>1</td>\n",
       "      <td>2010-02-05</td>\n",
       "      <td>24924.50</td>\n",
       "      <td>151315</td>\n",
       "      <td>1</td>\n",
       "      <td>0</td>\n",
       "      <td>0</td>\n",
       "      <td>42.31</td>\n",
       "      <td>2.572</td>\n",
       "      <td>211.096358</td>\n",
       "      <td>8.106</td>\n",
       "      <td>0</td>\n",
       "      <td>1</td>\n",
       "      <td>1</td>\n",
       "    </tr>\n",
       "    <tr>\n",
       "      <th>1</th>\n",
       "      <td>1</td>\n",
       "      <td>1</td>\n",
       "      <td>2010-02-12</td>\n",
       "      <td>46039.49</td>\n",
       "      <td>151315</td>\n",
       "      <td>1</td>\n",
       "      <td>0</td>\n",
       "      <td>0</td>\n",
       "      <td>38.51</td>\n",
       "      <td>2.548</td>\n",
       "      <td>211.242170</td>\n",
       "      <td>8.106</td>\n",
       "      <td>1</td>\n",
       "      <td>2</td>\n",
       "      <td>2</td>\n",
       "    </tr>\n",
       "    <tr>\n",
       "      <th>2</th>\n",
       "      <td>1</td>\n",
       "      <td>1</td>\n",
       "      <td>2010-02-19</td>\n",
       "      <td>41595.55</td>\n",
       "      <td>151315</td>\n",
       "      <td>1</td>\n",
       "      <td>0</td>\n",
       "      <td>0</td>\n",
       "      <td>39.93</td>\n",
       "      <td>2.514</td>\n",
       "      <td>211.289143</td>\n",
       "      <td>8.106</td>\n",
       "      <td>0</td>\n",
       "      <td>3</td>\n",
       "      <td>3</td>\n",
       "    </tr>\n",
       "    <tr>\n",
       "      <th>3</th>\n",
       "      <td>1</td>\n",
       "      <td>1</td>\n",
       "      <td>2010-02-26</td>\n",
       "      <td>19403.54</td>\n",
       "      <td>151315</td>\n",
       "      <td>1</td>\n",
       "      <td>0</td>\n",
       "      <td>0</td>\n",
       "      <td>46.63</td>\n",
       "      <td>2.561</td>\n",
       "      <td>211.319643</td>\n",
       "      <td>8.106</td>\n",
       "      <td>0</td>\n",
       "      <td>4</td>\n",
       "      <td>4</td>\n",
       "    </tr>\n",
       "    <tr>\n",
       "      <th>4</th>\n",
       "      <td>1</td>\n",
       "      <td>1</td>\n",
       "      <td>2010-03-05</td>\n",
       "      <td>21827.90</td>\n",
       "      <td>151315</td>\n",
       "      <td>1</td>\n",
       "      <td>0</td>\n",
       "      <td>0</td>\n",
       "      <td>46.50</td>\n",
       "      <td>2.625</td>\n",
       "      <td>211.350143</td>\n",
       "      <td>8.106</td>\n",
       "      <td>0</td>\n",
       "      <td>5</td>\n",
       "      <td>5</td>\n",
       "    </tr>\n",
       "  </tbody>\n",
       "</table>\n",
       "</div>"
      ],
      "text/plain": [
       "   Store  Dept       Date  Weekly_Sales    Size  Type_A  Type_B  Type_C  \\\n",
       "0      1     1 2010-02-05      24924.50  151315       1       0       0   \n",
       "1      1     1 2010-02-12      46039.49  151315       1       0       0   \n",
       "2      1     1 2010-02-19      41595.55  151315       1       0       0   \n",
       "3      1     1 2010-02-26      19403.54  151315       1       0       0   \n",
       "4      1     1 2010-03-05      21827.90  151315       1       0       0   \n",
       "\n",
       "   Temperature  Fuel_Price         CPI  Unemployment  IsHoliday  week_nbr  \\\n",
       "0        42.31       2.572  211.096358         8.106          0         1   \n",
       "1        38.51       2.548  211.242170         8.106          1         2   \n",
       "2        39.93       2.514  211.289143         8.106          0         3   \n",
       "3        46.63       2.561  211.319643         8.106          0         4   \n",
       "4        46.50       2.625  211.350143         8.106          0         5   \n",
       "\n",
       "   week_nbr_periodic  \n",
       "0                  1  \n",
       "1                  2  \n",
       "2                  3  \n",
       "3                  4  \n",
       "4                  5  "
      ]
     },
     "execution_count": 11,
     "metadata": {},
     "output_type": "execute_result"
    }
   ],
   "source": [
    "print(dept_store_lvl_df.shape)\n",
    "dept_store_lvl_df.head()"
   ]
  },
  {
   "cell_type": "markdown",
   "metadata": {},
   "source": [
    "#### Creating a single unified Store Level weekly sales dataset with 10 lagged moving window for every store\n",
    "Sliding window sequences are created seperately for every store as the lags for every store have to be provided in isolation. Because we don't want to feed in the past values of one store as inputs to another store"
   ]
  },
  {
   "cell_type": "code",
   "execution_count": 13,
   "metadata": {},
   "outputs": [
    {
     "data": {
      "text/plain": [
       "2948.097902097902"
      ]
     },
     "execution_count": 13,
     "metadata": {},
     "output_type": "execute_result"
    }
   ],
   "source": [
    "((421570+8)/143)"
   ]
  },
  {
   "cell_type": "code",
   "execution_count": null,
   "metadata": {},
   "outputs": [],
   "source": [
    "%%capture\n",
    "stores_dict_ips = {}\n",
    "stores_dict_tgt3 = {}\n",
    "stores_dict_df3 = {}\n",
    "stores_dict3 = {}   ### Creating a dictionary containing the 45 stores\n",
    "\n",
    "store_train_x = store_lvl_df.iloc[:4433,].drop(columns=['Date','Store','week_nbr'])\n",
    "store_train_y = store_lvl_df.iloc[:4433,]['Weekly_Sales_sum'].to_frame()\n",
    "store_test_x = store_lvl_df.iloc[4433:,].drop(columns=['Date','Store','week_nbr'])\n",
    "store_test_y = store_lvl_df.iloc[4433:,]['Weekly_Sales_sum'].to_frame()\n",
    "\n",
    "#### Applying Scaler on entire Store Level Aggregated dataset\n",
    "scaler = MinMaxScaler()\n",
    "scaler = scaler.fit(store_train_x)\n",
    "train_arr_x = scaler.transform(store_train_x)\n",
    "test_arr_x = scaler.transform(store_test_x)\n",
    "    \n",
    "scaler = scaler.fit(store_train_y)\n",
    "train_arr_y = scaler.transform(store_train_y)\n",
    "test_arr_y = scaler.transform(store_test_y)\n",
    "\n",
    "#### Creating Sliding Windows for Store 1\n",
    "x_train, y_train = data_prep(train_arr_x[0:143],train_arr_y[0:143],10)\n",
    "x_test, y_test = data_prep(test_arr_x[0:143],test_arr_y[0:143],10)\n",
    "\n",
    "### Creating Sliding windows for other stores 2 to 45 and concatenating them into a single numpy array\n",
    "for i in range(143,len(train_arr_x),143):   \n",
    "    ### Calling Data Prep Function to create multivariate sequences (10 lag moving window) Processed\n",
    "    x_train_store, y_train_store = data_prep(train_arr_x[i:i+143],train_arr_y[i:i+143],10)\n",
    "    x_train = np.concatenate((x_train, x_train_store), axis=0)\n",
    "    y_train = np.concatenate((y_train, y_train_store), axis=0)\n",
    "    \n",
    "for j in range(143,len(test_arr_x),143):  \n",
    "    x_test_store, y_test_store = data_prep(test_arr_x[j:j+143],test_arr_y[j:j+143],10)\n",
    "    x_test = np.concatenate((x_test, x_test_store), axis=0)\n",
    "    y_test = np.concatenate((y_test, y_test_store), axis=0)\n",
    "    \n",
    "### Creating Train & Test Loader Objects\n",
    "train_target3 = torch.tensor(y_train.astype(np.float32))\n",
    "train3 = torch.tensor(x_train.astype(np.float32)) \n",
    "train_tensor3 = torch.utils.data.TensorDataset(train3, train_target3) \n",
    "train_loader3 = torch.utils.data.DataLoader(dataset = train_tensor3, batch_size = len(train3), shuffle = False)\n",
    "    \n",
    "test_target3 = torch.tensor(y_test.astype(np.float32))\n",
    "test3 = torch.tensor(x_test.astype(np.float32)) \n",
    "test_tensor3 = torch.utils.data.TensorDataset(test3, test_target3) \n",
    "test_loader3 = torch.utils.data.DataLoader(dataset = test_tensor3, batch_size = len(test3),shuffle = False)  "
   ]
  }
 ],
 "metadata": {
  "kernelspec": {
   "display_name": "Python 3",
   "language": "python",
   "name": "python3"
  },
  "language_info": {
   "codemirror_mode": {
    "name": "ipython",
    "version": 3
   },
   "file_extension": ".py",
   "mimetype": "text/x-python",
   "name": "python",
   "nbconvert_exporter": "python",
   "pygments_lexer": "ipython3",
   "version": "3.7.4"
  }
 },
 "nbformat": 4,
 "nbformat_minor": 2
}
